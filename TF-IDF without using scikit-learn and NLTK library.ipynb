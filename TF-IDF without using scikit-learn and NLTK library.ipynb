{
 "cells": [
  {
   "cell_type": "code",
   "execution_count": 1,
   "metadata": {},
   "outputs": [],
   "source": [
    "a=\"And once the storm is over you won’t remember how you made it, how you managed to survive.\"\n",
    "b=\"You won’t even be sure, in fact, whether the storm is really over. But one thing is certain.\"\n",
    "c=\"When you come out of the storm you won’t be the same person who walked in.\""
   ]
  },
  {
   "cell_type": "code",
   "execution_count": 2,
   "metadata": {},
   "outputs": [],
   "source": [
    "def preprocessor(text):  \n",
    "    text=text.lower().replace(\".\",'').replace(\",\",'')\n",
    "    return text"
   ]
  },
  {
   "cell_type": "code",
   "execution_count": 3,
   "metadata": {},
   "outputs": [
    {
     "data": {
      "text/plain": [
       "'and once the storm is over you won’t remember how you made it how you managed to survive'"
      ]
     },
     "execution_count": 3,
     "metadata": {},
     "output_type": "execute_result"
    }
   ],
   "source": [
    "preprocessor(a)"
   ]
  },
  {
   "cell_type": "code",
   "execution_count": 4,
   "metadata": {},
   "outputs": [
    {
     "data": {
      "text/plain": [
       "'you won’t even be sure in fact whether the storm is really over but one thing is certain'"
      ]
     },
     "execution_count": 4,
     "metadata": {},
     "output_type": "execute_result"
    }
   ],
   "source": [
    "preprocessor(b)"
   ]
  },
  {
   "cell_type": "code",
   "execution_count": 5,
   "metadata": {},
   "outputs": [
    {
     "data": {
      "text/plain": [
       "'when you come out of the storm you won’t be the same person who walked in'"
      ]
     },
     "execution_count": 5,
     "metadata": {},
     "output_type": "execute_result"
    }
   ],
   "source": [
    "preprocessor(c)"
   ]
  },
  {
   "cell_type": "code",
   "execution_count": 6,
   "metadata": {},
   "outputs": [],
   "source": [
    "bow_a=preprocessor(a).split(\" \")\n",
    "bow_b=preprocessor(b).split(\" \")\n",
    "bow_c=preprocessor(c).split(\" \") "
   ]
  },
  {
   "cell_type": "code",
   "execution_count": 7,
   "metadata": {},
   "outputs": [
    {
     "data": {
      "text/plain": [
       "['and',\n",
       " 'once',\n",
       " 'the',\n",
       " 'storm',\n",
       " 'is',\n",
       " 'over',\n",
       " 'you',\n",
       " 'won’t',\n",
       " 'remember',\n",
       " 'how',\n",
       " 'you',\n",
       " 'made',\n",
       " 'it',\n",
       " 'how',\n",
       " 'you',\n",
       " 'managed',\n",
       " 'to',\n",
       " 'survive']"
      ]
     },
     "execution_count": 7,
     "metadata": {},
     "output_type": "execute_result"
    }
   ],
   "source": [
    "bow_a"
   ]
  },
  {
   "cell_type": "code",
   "execution_count": 8,
   "metadata": {},
   "outputs": [
    {
     "data": {
      "text/plain": [
       "['you',\n",
       " 'won’t',\n",
       " 'even',\n",
       " 'be',\n",
       " 'sure',\n",
       " 'in',\n",
       " 'fact',\n",
       " 'whether',\n",
       " 'the',\n",
       " 'storm',\n",
       " 'is',\n",
       " 'really',\n",
       " 'over',\n",
       " 'but',\n",
       " 'one',\n",
       " 'thing',\n",
       " 'is',\n",
       " 'certain']"
      ]
     },
     "execution_count": 8,
     "metadata": {},
     "output_type": "execute_result"
    }
   ],
   "source": [
    "bow_b"
   ]
  },
  {
   "cell_type": "code",
   "execution_count": 9,
   "metadata": {},
   "outputs": [
    {
     "data": {
      "text/plain": [
       "['when',\n",
       " 'you',\n",
       " 'come',\n",
       " 'out',\n",
       " 'of',\n",
       " 'the',\n",
       " 'storm',\n",
       " 'you',\n",
       " 'won’t',\n",
       " 'be',\n",
       " 'the',\n",
       " 'same',\n",
       " 'person',\n",
       " 'who',\n",
       " 'walked',\n",
       " 'in']"
      ]
     },
     "execution_count": 9,
     "metadata": {},
     "output_type": "execute_result"
    }
   ],
   "source": [
    "bow_c"
   ]
  },
  {
   "cell_type": "code",
   "execution_count": 10,
   "metadata": {},
   "outputs": [
    {
     "name": "stdout",
     "output_type": "stream",
     "text": [
      "18\n"
     ]
    }
   ],
   "source": [
    "len_a=len(bow_a)\n",
    "print(len_a)"
   ]
  },
  {
   "cell_type": "code",
   "execution_count": 11,
   "metadata": {},
   "outputs": [
    {
     "name": "stdout",
     "output_type": "stream",
     "text": [
      "18\n"
     ]
    }
   ],
   "source": [
    "len_b=len(bow_b)\n",
    "print(len_b)"
   ]
  },
  {
   "cell_type": "code",
   "execution_count": 12,
   "metadata": {},
   "outputs": [
    {
     "name": "stdout",
     "output_type": "stream",
     "text": [
      "16\n"
     ]
    }
   ],
   "source": [
    "len_c=len(bow_c)\n",
    "print(len_c)"
   ]
  },
  {
   "cell_type": "code",
   "execution_count": 13,
   "metadata": {},
   "outputs": [],
   "source": [
    "bow_ab= set(bow_a).union(set(bow_b))"
   ]
  },
  {
   "cell_type": "code",
   "execution_count": 14,
   "metadata": {},
   "outputs": [
    {
     "data": {
      "text/plain": [
       "{'and',\n",
       " 'be',\n",
       " 'but',\n",
       " 'certain',\n",
       " 'come',\n",
       " 'even',\n",
       " 'fact',\n",
       " 'how',\n",
       " 'in',\n",
       " 'is',\n",
       " 'it',\n",
       " 'made',\n",
       " 'managed',\n",
       " 'of',\n",
       " 'once',\n",
       " 'one',\n",
       " 'out',\n",
       " 'over',\n",
       " 'person',\n",
       " 'really',\n",
       " 'remember',\n",
       " 'same',\n",
       " 'storm',\n",
       " 'sure',\n",
       " 'survive',\n",
       " 'the',\n",
       " 'thing',\n",
       " 'to',\n",
       " 'walked',\n",
       " 'when',\n",
       " 'whether',\n",
       " 'who',\n",
       " 'won’t',\n",
       " 'you'}"
      ]
     },
     "execution_count": 14,
     "metadata": {},
     "output_type": "execute_result"
    }
   ],
   "source": [
    "Total_Set= set(bow_ab).union(set(bow_c))\n",
    "Total_Set"
   ]
  },
  {
   "cell_type": "code",
   "execution_count": 15,
   "metadata": {},
   "outputs": [],
   "source": [
    "wordDictA = dict.fromkeys(Total_Set, 0) \n",
    "wordDictB = dict.fromkeys(Total_Set, 0)\n",
    "wordDictC = dict.fromkeys(Total_Set, 0)"
   ]
  },
  {
   "cell_type": "code",
   "execution_count": 16,
   "metadata": {},
   "outputs": [],
   "source": [
    "for word in bow_a:\n",
    "    wordDictA[word]+=1"
   ]
  },
  {
   "cell_type": "code",
   "execution_count": 17,
   "metadata": {},
   "outputs": [
    {
     "data": {
      "text/plain": [
       "{'come': 0,\n",
       " 'made': 1,\n",
       " 'really': 0,\n",
       " 'certain': 0,\n",
       " 'but': 0,\n",
       " 'the': 1,\n",
       " 'how': 2,\n",
       " 'to': 1,\n",
       " 'whether': 0,\n",
       " 'be': 0,\n",
       " 'in': 0,\n",
       " 'one': 0,\n",
       " 'out': 0,\n",
       " 'managed': 1,\n",
       " 'won’t': 1,\n",
       " 'storm': 1,\n",
       " 'and': 1,\n",
       " 'person': 0,\n",
       " 'of': 0,\n",
       " 'survive': 1,\n",
       " 'you': 3,\n",
       " 'same': 0,\n",
       " 'thing': 0,\n",
       " 'even': 0,\n",
       " 'remember': 1,\n",
       " 'fact': 0,\n",
       " 'is': 1,\n",
       " 'who': 0,\n",
       " 'it': 1,\n",
       " 'when': 0,\n",
       " 'sure': 0,\n",
       " 'walked': 0,\n",
       " 'over': 1,\n",
       " 'once': 1}"
      ]
     },
     "execution_count": 17,
     "metadata": {},
     "output_type": "execute_result"
    }
   ],
   "source": [
    "wordDictA"
   ]
  },
  {
   "cell_type": "code",
   "execution_count": 18,
   "metadata": {},
   "outputs": [],
   "source": [
    "for word in bow_b:\n",
    "    wordDictB[word]+=1"
   ]
  },
  {
   "cell_type": "code",
   "execution_count": 19,
   "metadata": {},
   "outputs": [
    {
     "data": {
      "text/plain": [
       "{'come': 0,\n",
       " 'made': 0,\n",
       " 'really': 1,\n",
       " 'certain': 1,\n",
       " 'but': 1,\n",
       " 'the': 1,\n",
       " 'how': 0,\n",
       " 'to': 0,\n",
       " 'whether': 1,\n",
       " 'be': 1,\n",
       " 'in': 1,\n",
       " 'one': 1,\n",
       " 'out': 0,\n",
       " 'managed': 0,\n",
       " 'won’t': 1,\n",
       " 'storm': 1,\n",
       " 'and': 0,\n",
       " 'person': 0,\n",
       " 'of': 0,\n",
       " 'survive': 0,\n",
       " 'you': 1,\n",
       " 'same': 0,\n",
       " 'thing': 1,\n",
       " 'even': 1,\n",
       " 'remember': 0,\n",
       " 'fact': 1,\n",
       " 'is': 2,\n",
       " 'who': 0,\n",
       " 'it': 0,\n",
       " 'when': 0,\n",
       " 'sure': 1,\n",
       " 'walked': 0,\n",
       " 'over': 1,\n",
       " 'once': 0}"
      ]
     },
     "execution_count": 19,
     "metadata": {},
     "output_type": "execute_result"
    }
   ],
   "source": [
    "wordDictB"
   ]
  },
  {
   "cell_type": "code",
   "execution_count": 20,
   "metadata": {},
   "outputs": [],
   "source": [
    "for word in bow_c:\n",
    "    wordDictC[word]+=1"
   ]
  },
  {
   "cell_type": "code",
   "execution_count": 21,
   "metadata": {},
   "outputs": [
    {
     "data": {
      "text/plain": [
       "{'come': 1,\n",
       " 'made': 0,\n",
       " 'really': 0,\n",
       " 'certain': 0,\n",
       " 'but': 0,\n",
       " 'the': 2,\n",
       " 'how': 0,\n",
       " 'to': 0,\n",
       " 'whether': 0,\n",
       " 'be': 1,\n",
       " 'in': 1,\n",
       " 'one': 0,\n",
       " 'out': 1,\n",
       " 'managed': 0,\n",
       " 'won’t': 1,\n",
       " 'storm': 1,\n",
       " 'and': 0,\n",
       " 'person': 1,\n",
       " 'of': 1,\n",
       " 'survive': 0,\n",
       " 'you': 2,\n",
       " 'same': 1,\n",
       " 'thing': 0,\n",
       " 'even': 0,\n",
       " 'remember': 0,\n",
       " 'fact': 0,\n",
       " 'is': 0,\n",
       " 'who': 1,\n",
       " 'it': 0,\n",
       " 'when': 1,\n",
       " 'sure': 0,\n",
       " 'walked': 1,\n",
       " 'over': 0,\n",
       " 'once': 0}"
      ]
     },
     "execution_count": 21,
     "metadata": {},
     "output_type": "execute_result"
    }
   ],
   "source": [
    "wordDictC"
   ]
  },
  {
   "cell_type": "code",
   "execution_count": 22,
   "metadata": {},
   "outputs": [],
   "source": [
    "def tf(wordDict, bow):\n",
    "    tfDict = {}\n",
    "    for i in wordDict: \n",
    "        tfDict[i]= wordDict[i]/len(bow)\n",
    "    return tfDict"
   ]
  },
  {
   "cell_type": "code",
   "execution_count": 23,
   "metadata": {},
   "outputs": [],
   "source": [
    "tf_dictA=tf(wordDictA, bow_a)"
   ]
  },
  {
   "cell_type": "code",
   "execution_count": 24,
   "metadata": {},
   "outputs": [
    {
     "data": {
      "text/plain": [
       "{'come': 0.0,\n",
       " 'made': 0.05555555555555555,\n",
       " 'really': 0.0,\n",
       " 'certain': 0.0,\n",
       " 'but': 0.0,\n",
       " 'the': 0.05555555555555555,\n",
       " 'how': 0.1111111111111111,\n",
       " 'to': 0.05555555555555555,\n",
       " 'whether': 0.0,\n",
       " 'be': 0.0,\n",
       " 'in': 0.0,\n",
       " 'one': 0.0,\n",
       " 'out': 0.0,\n",
       " 'managed': 0.05555555555555555,\n",
       " 'won’t': 0.05555555555555555,\n",
       " 'storm': 0.05555555555555555,\n",
       " 'and': 0.05555555555555555,\n",
       " 'person': 0.0,\n",
       " 'of': 0.0,\n",
       " 'survive': 0.05555555555555555,\n",
       " 'you': 0.16666666666666666,\n",
       " 'same': 0.0,\n",
       " 'thing': 0.0,\n",
       " 'even': 0.0,\n",
       " 'remember': 0.05555555555555555,\n",
       " 'fact': 0.0,\n",
       " 'is': 0.05555555555555555,\n",
       " 'who': 0.0,\n",
       " 'it': 0.05555555555555555,\n",
       " 'when': 0.0,\n",
       " 'sure': 0.0,\n",
       " 'walked': 0.0,\n",
       " 'over': 0.05555555555555555,\n",
       " 'once': 0.05555555555555555}"
      ]
     },
     "execution_count": 24,
     "metadata": {},
     "output_type": "execute_result"
    }
   ],
   "source": [
    "tf_dictA"
   ]
  },
  {
   "cell_type": "code",
   "execution_count": 25,
   "metadata": {},
   "outputs": [],
   "source": [
    "tf_dictB=tf(wordDictB, bow_b)"
   ]
  },
  {
   "cell_type": "code",
   "execution_count": 26,
   "metadata": {},
   "outputs": [
    {
     "data": {
      "text/plain": [
       "{'come': 0.0,\n",
       " 'made': 0.0,\n",
       " 'really': 0.05555555555555555,\n",
       " 'certain': 0.05555555555555555,\n",
       " 'but': 0.05555555555555555,\n",
       " 'the': 0.05555555555555555,\n",
       " 'how': 0.0,\n",
       " 'to': 0.0,\n",
       " 'whether': 0.05555555555555555,\n",
       " 'be': 0.05555555555555555,\n",
       " 'in': 0.05555555555555555,\n",
       " 'one': 0.05555555555555555,\n",
       " 'out': 0.0,\n",
       " 'managed': 0.0,\n",
       " 'won’t': 0.05555555555555555,\n",
       " 'storm': 0.05555555555555555,\n",
       " 'and': 0.0,\n",
       " 'person': 0.0,\n",
       " 'of': 0.0,\n",
       " 'survive': 0.0,\n",
       " 'you': 0.05555555555555555,\n",
       " 'same': 0.0,\n",
       " 'thing': 0.05555555555555555,\n",
       " 'even': 0.05555555555555555,\n",
       " 'remember': 0.0,\n",
       " 'fact': 0.05555555555555555,\n",
       " 'is': 0.1111111111111111,\n",
       " 'who': 0.0,\n",
       " 'it': 0.0,\n",
       " 'when': 0.0,\n",
       " 'sure': 0.05555555555555555,\n",
       " 'walked': 0.0,\n",
       " 'over': 0.05555555555555555,\n",
       " 'once': 0.0}"
      ]
     },
     "execution_count": 26,
     "metadata": {},
     "output_type": "execute_result"
    }
   ],
   "source": [
    "tf_dictB"
   ]
  },
  {
   "cell_type": "code",
   "execution_count": 27,
   "metadata": {},
   "outputs": [],
   "source": [
    "tf_dictC=tf(wordDictC, bow_c)"
   ]
  },
  {
   "cell_type": "code",
   "execution_count": 28,
   "metadata": {},
   "outputs": [
    {
     "data": {
      "text/plain": [
       "{'come': 0.0625,\n",
       " 'made': 0.0,\n",
       " 'really': 0.0,\n",
       " 'certain': 0.0,\n",
       " 'but': 0.0,\n",
       " 'the': 0.125,\n",
       " 'how': 0.0,\n",
       " 'to': 0.0,\n",
       " 'whether': 0.0,\n",
       " 'be': 0.0625,\n",
       " 'in': 0.0625,\n",
       " 'one': 0.0,\n",
       " 'out': 0.0625,\n",
       " 'managed': 0.0,\n",
       " 'won’t': 0.0625,\n",
       " 'storm': 0.0625,\n",
       " 'and': 0.0,\n",
       " 'person': 0.0625,\n",
       " 'of': 0.0625,\n",
       " 'survive': 0.0,\n",
       " 'you': 0.125,\n",
       " 'same': 0.0625,\n",
       " 'thing': 0.0,\n",
       " 'even': 0.0,\n",
       " 'remember': 0.0,\n",
       " 'fact': 0.0,\n",
       " 'is': 0.0,\n",
       " 'who': 0.0625,\n",
       " 'it': 0.0,\n",
       " 'when': 0.0625,\n",
       " 'sure': 0.0,\n",
       " 'walked': 0.0625,\n",
       " 'over': 0.0,\n",
       " 'once': 0.0}"
      ]
     },
     "execution_count": 28,
     "metadata": {},
     "output_type": "execute_result"
    }
   ],
   "source": [
    "tf_dictC"
   ]
  },
  {
   "cell_type": "code",
   "execution_count": 29,
   "metadata": {},
   "outputs": [],
   "source": [
    "import math\n",
    "def idf(docList):\n",
    "    idfDict = {}\n",
    "    N = len(docList)\n",
    "    \n",
    "    idfDict = dict.fromkeys(docList[0].keys(), 0)\n",
    "    for doc in docList:\n",
    "        for word, val in doc.items():\n",
    "            if val > 0:\n",
    "                idfDict[word] += 1\n",
    "    \n",
    "    for word, val in idfDict.items():\n",
    "        idfDict[word] = math.log10(N / float(val))\n",
    "        \n",
    "    return idfDict"
   ]
  },
  {
   "cell_type": "code",
   "execution_count": 30,
   "metadata": {},
   "outputs": [],
   "source": [
    "idfs = idf([wordDictA, wordDictB,wordDictC])"
   ]
  },
  {
   "cell_type": "code",
   "execution_count": 31,
   "metadata": {},
   "outputs": [],
   "source": [
    "def tf_idf(tfBow, idfs):\n",
    "    tfidf = {}\n",
    "    for word, val in tfBow.items():\n",
    "        tfidf[word] = val*idfs[word]\n",
    "    return tfidf"
   ]
  },
  {
   "cell_type": "code",
   "execution_count": 32,
   "metadata": {},
   "outputs": [],
   "source": [
    "tfidfBowA = tf_idf(tf_dictA, idfs)\n",
    "tfidfBowB = tf_idf(tf_dictB, idfs) \n",
    "tfidfBowC = tf_idf(tf_dictC, idfs) "
   ]
  },
  {
   "cell_type": "code",
   "execution_count": 33,
   "metadata": {},
   "outputs": [
    {
     "data": {
      "text/html": [
       "<div>\n",
       "<style scoped>\n",
       "    .dataframe tbody tr th:only-of-type {\n",
       "        vertical-align: middle;\n",
       "    }\n",
       "\n",
       "    .dataframe tbody tr th {\n",
       "        vertical-align: top;\n",
       "    }\n",
       "\n",
       "    .dataframe thead th {\n",
       "        text-align: right;\n",
       "    }\n",
       "</style>\n",
       "<table border=\"1\" class=\"dataframe\">\n",
       "  <thead>\n",
       "    <tr style=\"text-align: right;\">\n",
       "      <th></th>\n",
       "      <th>come</th>\n",
       "      <th>made</th>\n",
       "      <th>really</th>\n",
       "      <th>certain</th>\n",
       "      <th>but</th>\n",
       "      <th>the</th>\n",
       "      <th>how</th>\n",
       "      <th>to</th>\n",
       "      <th>whether</th>\n",
       "      <th>be</th>\n",
       "      <th>...</th>\n",
       "      <th>remember</th>\n",
       "      <th>fact</th>\n",
       "      <th>is</th>\n",
       "      <th>who</th>\n",
       "      <th>it</th>\n",
       "      <th>when</th>\n",
       "      <th>sure</th>\n",
       "      <th>walked</th>\n",
       "      <th>over</th>\n",
       "      <th>once</th>\n",
       "    </tr>\n",
       "  </thead>\n",
       "  <tbody>\n",
       "    <tr>\n",
       "      <th>0</th>\n",
       "      <td>0.00000</td>\n",
       "      <td>0.026507</td>\n",
       "      <td>0.000000</td>\n",
       "      <td>0.000000</td>\n",
       "      <td>0.000000</td>\n",
       "      <td>0.0</td>\n",
       "      <td>0.053013</td>\n",
       "      <td>0.026507</td>\n",
       "      <td>0.000000</td>\n",
       "      <td>0.000000</td>\n",
       "      <td>...</td>\n",
       "      <td>0.026507</td>\n",
       "      <td>0.000000</td>\n",
       "      <td>0.009783</td>\n",
       "      <td>0.00000</td>\n",
       "      <td>0.026507</td>\n",
       "      <td>0.00000</td>\n",
       "      <td>0.000000</td>\n",
       "      <td>0.00000</td>\n",
       "      <td>0.009783</td>\n",
       "      <td>0.026507</td>\n",
       "    </tr>\n",
       "    <tr>\n",
       "      <th>1</th>\n",
       "      <td>0.00000</td>\n",
       "      <td>0.000000</td>\n",
       "      <td>0.026507</td>\n",
       "      <td>0.026507</td>\n",
       "      <td>0.026507</td>\n",
       "      <td>0.0</td>\n",
       "      <td>0.000000</td>\n",
       "      <td>0.000000</td>\n",
       "      <td>0.026507</td>\n",
       "      <td>0.009783</td>\n",
       "      <td>...</td>\n",
       "      <td>0.000000</td>\n",
       "      <td>0.026507</td>\n",
       "      <td>0.019566</td>\n",
       "      <td>0.00000</td>\n",
       "      <td>0.000000</td>\n",
       "      <td>0.00000</td>\n",
       "      <td>0.026507</td>\n",
       "      <td>0.00000</td>\n",
       "      <td>0.009783</td>\n",
       "      <td>0.000000</td>\n",
       "    </tr>\n",
       "    <tr>\n",
       "      <th>2</th>\n",
       "      <td>0.02982</td>\n",
       "      <td>0.000000</td>\n",
       "      <td>0.000000</td>\n",
       "      <td>0.000000</td>\n",
       "      <td>0.000000</td>\n",
       "      <td>0.0</td>\n",
       "      <td>0.000000</td>\n",
       "      <td>0.000000</td>\n",
       "      <td>0.000000</td>\n",
       "      <td>0.011006</td>\n",
       "      <td>...</td>\n",
       "      <td>0.000000</td>\n",
       "      <td>0.000000</td>\n",
       "      <td>0.000000</td>\n",
       "      <td>0.02982</td>\n",
       "      <td>0.000000</td>\n",
       "      <td>0.02982</td>\n",
       "      <td>0.000000</td>\n",
       "      <td>0.02982</td>\n",
       "      <td>0.000000</td>\n",
       "      <td>0.000000</td>\n",
       "    </tr>\n",
       "  </tbody>\n",
       "</table>\n",
       "<p>3 rows × 34 columns</p>\n",
       "</div>"
      ],
      "text/plain": [
       "      come      made    really   certain       but  the       how        to  \\\n",
       "0  0.00000  0.026507  0.000000  0.000000  0.000000  0.0  0.053013  0.026507   \n",
       "1  0.00000  0.000000  0.026507  0.026507  0.026507  0.0  0.000000  0.000000   \n",
       "2  0.02982  0.000000  0.000000  0.000000  0.000000  0.0  0.000000  0.000000   \n",
       "\n",
       "    whether        be  ...  remember      fact        is      who        it  \\\n",
       "0  0.000000  0.000000  ...  0.026507  0.000000  0.009783  0.00000  0.026507   \n",
       "1  0.026507  0.009783  ...  0.000000  0.026507  0.019566  0.00000  0.000000   \n",
       "2  0.000000  0.011006  ...  0.000000  0.000000  0.000000  0.02982  0.000000   \n",
       "\n",
       "      when      sure   walked      over      once  \n",
       "0  0.00000  0.000000  0.00000  0.009783  0.026507  \n",
       "1  0.00000  0.026507  0.00000  0.009783  0.000000  \n",
       "2  0.02982  0.000000  0.02982  0.000000  0.000000  \n",
       "\n",
       "[3 rows x 34 columns]"
      ]
     },
     "execution_count": 33,
     "metadata": {},
     "output_type": "execute_result"
    }
   ],
   "source": [
    "import pandas as pd\n",
    "pd.DataFrame([tfidfBowA, tfidfBowB,tfidfBowC])"
   ]
  },
  {
   "cell_type": "code",
   "execution_count": null,
   "metadata": {},
   "outputs": [],
   "source": []
  }
 ],
 "metadata": {
  "kernelspec": {
   "display_name": "Python 3",
   "language": "python",
   "name": "python3"
  },
  "language_info": {
   "codemirror_mode": {
    "name": "ipython",
    "version": 3
   },
   "file_extension": ".py",
   "mimetype": "text/x-python",
   "name": "python",
   "nbconvert_exporter": "python",
   "pygments_lexer": "ipython3",
   "version": "3.7.6"
  }
 },
 "nbformat": 4,
 "nbformat_minor": 4
}
